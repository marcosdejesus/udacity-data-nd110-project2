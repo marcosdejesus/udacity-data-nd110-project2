{
 "cells": [
  {
   "cell_type": "markdown",
   "metadata": {},
   "source": [
    "# Titanic - Projeto Final\n",
    "\n",
    "## Introdução\n",
    "O acidente do Titanic é o mais famoso acidente marítimo já ocorrido. Toda essa fama veio do filme Titanic de 1997. O acidente ocorreu no dia 15 de abril de 1915 e 1502 tripulantes dos 2224 que estavam a bordo morreram.  No entanto, alguns grupos de pessoas tiveram uma maior taxa de sobrevivência. Sendo assim, neste projeto será analisado informações de 891 passageiros do RMS Titanic para extrairmos informações relevantes sobre o ocorrido.\n",
    "\n",
    "### Variáveis do conjunto de dados\n",
    "Variável|Definição|Chave\n",
    "--------|---------|-----\n",
    "survival|Sobrevivencia|0 = Não, 1=Sim\n",
    "pclass|Classe da passagem|1=Primeira,2=Segunda,3=Terceira\n",
    "sex|Sexo\n",
    "Age|Idade em anos\n",
    "sibsp|# de irmãos/esposx à bordo\n",
    "parch|# de pais/filho à bordo\n",
    "fare|Preço da passagem\n",
    "cabin|Número da cabine\n",
    "embarked|Porto de embarque|C = Cherbourg,Q = Queenstown, S=Southampton\n"
   ]
  },
  {
   "cell_type": "code",
   "execution_count": 1,
   "metadata": {},
   "outputs": [],
   "source": [
    "# Escreva aqui os imports, no mínimo você vai usar pandas, numpy e matplotlib \n",
    "# também pode-se usar outras bibliotecas se desejar.\n",
    "import pandas as pd\n",
    "import numpy as np\n",
    "import matplotlib.pyplot as plt\n",
    "from scipy import stats\n",
    "import seaborn as sns\n",
    "\n",
    "# Não esqueça que para o matplotlib plotar a baixo da célula é precisa adicionar\n",
    "# o código especial.\n",
    "%matplotlib inline"
   ]
  },
  {
   "cell_type": "code",
   "execution_count": 2,
   "metadata": {},
   "outputs": [
    {
     "data": {
      "text/html": [
       "<div>\n",
       "<style scoped>\n",
       "    .dataframe tbody tr th:only-of-type {\n",
       "        vertical-align: middle;\n",
       "    }\n",
       "\n",
       "    .dataframe tbody tr th {\n",
       "        vertical-align: top;\n",
       "    }\n",
       "\n",
       "    .dataframe thead th {\n",
       "        text-align: right;\n",
       "    }\n",
       "</style>\n",
       "<table border=\"1\" class=\"dataframe\">\n",
       "  <thead>\n",
       "    <tr style=\"text-align: right;\">\n",
       "      <th></th>\n",
       "      <th>PassengerId</th>\n",
       "      <th>Survived</th>\n",
       "      <th>Pclass</th>\n",
       "      <th>Name</th>\n",
       "      <th>Sex</th>\n",
       "      <th>Age</th>\n",
       "      <th>SibSp</th>\n",
       "      <th>Parch</th>\n",
       "      <th>Ticket</th>\n",
       "      <th>Fare</th>\n",
       "      <th>Cabin</th>\n",
       "      <th>Embarked</th>\n",
       "    </tr>\n",
       "  </thead>\n",
       "  <tbody>\n",
       "    <tr>\n",
       "      <th>0</th>\n",
       "      <td>1</td>\n",
       "      <td>0</td>\n",
       "      <td>3</td>\n",
       "      <td>Braund, Mr. Owen Harris</td>\n",
       "      <td>male</td>\n",
       "      <td>22.0</td>\n",
       "      <td>1</td>\n",
       "      <td>0</td>\n",
       "      <td>A/5 21171</td>\n",
       "      <td>7.2500</td>\n",
       "      <td>NaN</td>\n",
       "      <td>S</td>\n",
       "    </tr>\n",
       "    <tr>\n",
       "      <th>1</th>\n",
       "      <td>2</td>\n",
       "      <td>1</td>\n",
       "      <td>1</td>\n",
       "      <td>Cumings, Mrs. John Bradley (Florence Briggs Th...</td>\n",
       "      <td>female</td>\n",
       "      <td>38.0</td>\n",
       "      <td>1</td>\n",
       "      <td>0</td>\n",
       "      <td>PC 17599</td>\n",
       "      <td>71.2833</td>\n",
       "      <td>C85</td>\n",
       "      <td>C</td>\n",
       "    </tr>\n",
       "  </tbody>\n",
       "</table>\n",
       "</div>"
      ],
      "text/plain": [
       "   PassengerId  Survived  Pclass  \\\n",
       "0            1         0       3   \n",
       "1            2         1       1   \n",
       "\n",
       "                                                Name     Sex   Age  SibSp  \\\n",
       "0                            Braund, Mr. Owen Harris    male  22.0      1   \n",
       "1  Cumings, Mrs. John Bradley (Florence Briggs Th...  female  38.0      1   \n",
       "\n",
       "   Parch     Ticket     Fare Cabin Embarked  \n",
       "0      0  A/5 21171   7.2500   NaN        S  \n",
       "1      0   PC 17599  71.2833   C85        C  "
      ]
     },
     "execution_count": 2,
     "metadata": {},
     "output_type": "execute_result"
    }
   ],
   "source": [
    "# Abra o arquivo CSV e mostre algumas linhas\n",
    "df_titanic = pd.read_csv('titanic-data-6.csv')\n",
    "df_titanic.head(2)"
   ]
  },
  {
   "cell_type": "markdown",
   "metadata": {},
   "source": [
    "## Perguntas\n",
    "\n",
    "\n",
    "- Mulheres e crianças tiveram maior taxa de sobrevivencia comparado com outros grupos?\n",
    "\n",
    "Está pergunta foi baseada no fato que no filme Titanic o capitão ordena que a evacuação de mulheres e crianças seja feita primeiro.\n",
    "\n",
    "- Qual foi a relação entre a taxa de sobrevivencia com o número de parentes à bordo?\n",
    "\n",
    "Parentes tendem a cuidar um do outro.\n",
    "\n",
    "- Qual é a distribuição da tripulação por idade e a distribuição de sobreviventes por idade?\n",
    "\n",
    "- Quantidade preço médio para passagens para cada classe?\n",
    "\n",
    "- Qual a taxa de sobrevivencia dentro de cada classe?\n",
    "\n",
    "Analisando se o aspecto financeiro influenciou na taxa de sobrevivencia."
   ]
  },
  {
   "cell_type": "markdown",
   "metadata": {},
   "source": [
    "## Limpeza dos dados\n",
    "\n",
    "Primeiro passo é verificar o estado inicial dos dados"
   ]
  },
  {
   "cell_type": "code",
   "execution_count": 3,
   "metadata": {},
   "outputs": [
    {
     "name": "stdout",
     "output_type": "stream",
     "text": [
      "<class 'pandas.core.frame.DataFrame'>\n",
      "RangeIndex: 891 entries, 0 to 890\n",
      "Data columns (total 12 columns):\n",
      "PassengerId    891 non-null int64\n",
      "Survived       891 non-null int64\n",
      "Pclass         891 non-null int64\n",
      "Name           891 non-null object\n",
      "Sex            891 non-null object\n",
      "Age            714 non-null float64\n",
      "SibSp          891 non-null int64\n",
      "Parch          891 non-null int64\n",
      "Ticket         891 non-null object\n",
      "Fare           891 non-null float64\n",
      "Cabin          204 non-null object\n",
      "Embarked       889 non-null object\n",
      "dtypes: float64(2), int64(5), object(5)\n",
      "memory usage: 83.6+ KB\n",
      "0 linhas duplicadas\n"
     ]
    }
   ],
   "source": [
    "# Verificação inicial\n",
    "df_titanic.info()\n",
    "#Dados duplicados\n",
    "print('{} linhas duplicadas'.format(df_titanic.duplicated().sum()))"
   ]
  },
  {
   "cell_type": "markdown",
   "metadata": {},
   "source": [
    "Pela verificação inicial podemos ver que:\n",
    "- Precisamos transformar os nomes das colunas para minusculo\n",
    "- Existem dados faltantes nas colunas *Age*,*Cabin* e *Embarked*\n",
    "- Eliminar colunas que não serão usadas para o estudo\n",
    "\n",
    "Primeiramente, transformaremos o nome das colunas para minusculo"
   ]
  },
  {
   "cell_type": "code",
   "execution_count": 4,
   "metadata": {},
   "outputs": [],
   "source": [
    "df_titanic = df_titanic.rename(str.lower, axis='columns')"
   ]
  },
  {
   "cell_type": "markdown",
   "metadata": {},
   "source": [
    "Excluindo as colunas *Ticket* e *Cabin*, pois, no momento, não coseguimos extrair informações de *Ticket* e temos muitos dados faltantes de *Cabin*"
   ]
  },
  {
   "cell_type": "code",
   "execution_count": 5,
   "metadata": {},
   "outputs": [],
   "source": [
    "df_titanic = df_titanic.drop(['cabin','ticket'],axis='columns')"
   ]
  },
  {
   "cell_type": "markdown",
   "metadata": {},
   "source": [
    "Lidando com os valores nulos.\n",
    "\n",
    "Para a coluna *age* preencheremos os dados nulos com a media da idade\n",
    "\n",
    "Para a coluna *embarked* preencheremos com a Moda"
   ]
  },
  {
   "cell_type": "code",
   "execution_count": 6,
   "metadata": {},
   "outputs": [],
   "source": [
    "# Preenchendo a coluna Age com a média\n",
    "def fill_na_col_mean(df,column):\n",
    "    \"\"\"\n",
    "    Fill the NaN values of a column in a dataframe with the mean of the values\n",
    "    of the own column\n",
    "    Args:\n",
    "        df(Pandas.DataFrame)\n",
    "        column(String):Label of the column\n",
    "    Returns:\n",
    "        Pandas.DataFrame\n",
    "    \"\"\"\n",
    "    mean = np.rint(np.mean(df[column]))\n",
    "    return df.fillna(value={column:mean})\n",
    "\n",
    "df_titanic = fill_na_col_mean(df_titanic,'age')"
   ]
  },
  {
   "cell_type": "code",
   "execution_count": 7,
   "metadata": {},
   "outputs": [],
   "source": [
    "# Preenchendo a coluna embarked com a moda\n",
    "def fill_na_col_mode(df,column):\n",
    "    \"\"\"\n",
    "    Fill the NaN values of a column in a dataframe with the mode of the values\n",
    "    of the own column\n",
    "    Args:\n",
    "        df(Pandas.DataFrame)\n",
    "        column(String):Label of the column\n",
    "    Returns:\n",
    "        Pandas.DataFrame\n",
    "    \"\"\"\n",
    "    mode = df[column].mode()[0]\n",
    "    return df.fillna(value={column:mode})\n",
    "\n",
    "df_titanic = fill_na_col_mode(df_titanic,'embarked')"
   ]
  },
  {
   "cell_type": "markdown",
   "metadata": {},
   "source": [
    "Verificando se os dados contem duplicatas"
   ]
  },
  {
   "cell_type": "code",
   "execution_count": 8,
   "metadata": {},
   "outputs": [
    {
     "data": {
      "text/plain": [
       "False"
      ]
     },
     "execution_count": 8,
     "metadata": {},
     "output_type": "execute_result"
    }
   ],
   "source": [
    "df_titanic.duplicated().any()"
   ]
  },
  {
   "cell_type": "markdown",
   "metadata": {},
   "source": [
    "Verificando o estado final dos dados"
   ]
  },
  {
   "cell_type": "code",
   "execution_count": 9,
   "metadata": {
    "scrolled": true
   },
   "outputs": [
    {
     "name": "stdout",
     "output_type": "stream",
     "text": [
      "<class 'pandas.core.frame.DataFrame'>\n",
      "RangeIndex: 891 entries, 0 to 890\n",
      "Data columns (total 10 columns):\n",
      "passengerid    891 non-null int64\n",
      "survived       891 non-null int64\n",
      "pclass         891 non-null int64\n",
      "name           891 non-null object\n",
      "sex            891 non-null object\n",
      "age            891 non-null float64\n",
      "sibsp          891 non-null int64\n",
      "parch          891 non-null int64\n",
      "fare           891 non-null float64\n",
      "embarked       891 non-null object\n",
      "dtypes: float64(2), int64(5), object(3)\n",
      "memory usage: 69.7+ KB\n"
     ]
    }
   ],
   "source": [
    "df_titanic.info()"
   ]
  },
  {
   "cell_type": "markdown",
   "metadata": {},
   "source": [
    "Finalizado a limpeza podemos salvar os dados"
   ]
  },
  {
   "cell_type": "code",
   "execution_count": 10,
   "metadata": {},
   "outputs": [],
   "source": [
    "df_titanic.to_csv('titanic_clean.csv',index=False)"
   ]
  },
  {
   "cell_type": "markdown",
   "metadata": {},
   "source": [
    "## Análise\n",
    "\n",
    "Fale um pouco do processo e forma que pretende analisar os dados, também use pelo menos dois tipos diferentes de gráficos.\n",
    "\n",
    "O site do matplotlib é cheio de exemplos que você pode seguir e usar em seu projeto. Também não é preciso se limitar apenas ao matplotlib, existem outras bibliotecas gráficas, um exemplo é o seaborn.\n",
    "\n",
    "Ao final de análisar cada dado e figura gerada faça uma explicação dos resultados respondendo a sua pergunta. Tente falar de forma simples mas completa."
   ]
  },
  {
   "cell_type": "code",
   "execution_count": 11,
   "metadata": {},
   "outputs": [
    {
     "data": {
      "text/html": [
       "<div>\n",
       "<style scoped>\n",
       "    .dataframe tbody tr th:only-of-type {\n",
       "        vertical-align: middle;\n",
       "    }\n",
       "\n",
       "    .dataframe tbody tr th {\n",
       "        vertical-align: top;\n",
       "    }\n",
       "\n",
       "    .dataframe thead th {\n",
       "        text-align: right;\n",
       "    }\n",
       "</style>\n",
       "<table border=\"1\" class=\"dataframe\">\n",
       "  <thead>\n",
       "    <tr style=\"text-align: right;\">\n",
       "      <th></th>\n",
       "      <th>survived</th>\n",
       "      <th>pclass</th>\n",
       "      <th>name</th>\n",
       "      <th>sex</th>\n",
       "      <th>age</th>\n",
       "      <th>sibsp</th>\n",
       "      <th>parch</th>\n",
       "      <th>fare</th>\n",
       "      <th>embarked</th>\n",
       "    </tr>\n",
       "    <tr>\n",
       "      <th>passengerid</th>\n",
       "      <th></th>\n",
       "      <th></th>\n",
       "      <th></th>\n",
       "      <th></th>\n",
       "      <th></th>\n",
       "      <th></th>\n",
       "      <th></th>\n",
       "      <th></th>\n",
       "      <th></th>\n",
       "    </tr>\n",
       "  </thead>\n",
       "  <tbody>\n",
       "    <tr>\n",
       "      <th>1</th>\n",
       "      <td>0</td>\n",
       "      <td>3</td>\n",
       "      <td>Braund, Mr. Owen Harris</td>\n",
       "      <td>male</td>\n",
       "      <td>22.0</td>\n",
       "      <td>1</td>\n",
       "      <td>0</td>\n",
       "      <td>7.2500</td>\n",
       "      <td>S</td>\n",
       "    </tr>\n",
       "    <tr>\n",
       "      <th>2</th>\n",
       "      <td>1</td>\n",
       "      <td>1</td>\n",
       "      <td>Cumings, Mrs. John Bradley (Florence Briggs Th...</td>\n",
       "      <td>female</td>\n",
       "      <td>38.0</td>\n",
       "      <td>1</td>\n",
       "      <td>0</td>\n",
       "      <td>71.2833</td>\n",
       "      <td>C</td>\n",
       "    </tr>\n",
       "  </tbody>\n",
       "</table>\n",
       "</div>"
      ],
      "text/plain": [
       "             survived  pclass  \\\n",
       "passengerid                     \n",
       "1                   0       3   \n",
       "2                   1       1   \n",
       "\n",
       "                                                          name     sex   age  \\\n",
       "passengerid                                                                    \n",
       "1                                      Braund, Mr. Owen Harris    male  22.0   \n",
       "2            Cumings, Mrs. John Bradley (Florence Briggs Th...  female  38.0   \n",
       "\n",
       "             sibsp  parch     fare embarked  \n",
       "passengerid                                  \n",
       "1                1      0   7.2500        S  \n",
       "2                1      0  71.2833        C  "
      ]
     },
     "execution_count": 11,
     "metadata": {},
     "output_type": "execute_result"
    }
   ],
   "source": [
    "# Lendo o arquivo CSV limpo\n",
    "\n",
    "df_titanic = pd.read_csv('titanic_clean.csv',index_col=0)\n",
    "df_titanic.head(2)"
   ]
  },
  {
   "cell_type": "markdown",
   "metadata": {},
   "source": [
    "### P1.Mulheres e crianças tiveram maior taxa de sobrevivencia comparado com outros grupos?\n",
    "**Obs.:** De acordo com os Direitos da Criança da ONU, uma criança é qualquer individuo com idade menor que 18 anos"
   ]
  },
  {
   "cell_type": "code",
   "execution_count": 12,
   "metadata": {},
   "outputs": [],
   "source": [
    "# Separando o conjunto de mulheres e criancas\n",
    "df_wm_ch = df_titanic.query('sex == \"female\" or age < 18')"
   ]
  },
  {
   "cell_type": "code",
   "execution_count": 13,
   "metadata": {},
   "outputs": [],
   "source": [
    "#funcao para calcular a taxa de sobrevivencia\n",
    "def surv_rate(df):\n",
    "    \"\"\"\n",
    "    Find the survival rate of a dataframe of the Kaggle Titanic dataset\n",
    "    Args:\n",
    "        df(Pandas.DataFrame)\n",
    "    Returns:\n",
    "        float with the survivale rate\n",
    "    \"\"\"\n",
    "    surv_group = df.query('survived == 1')\n",
    "    return (surv_group.shape[0]/df.shape[0])*100"
   ]
  },
  {
   "cell_type": "code",
   "execution_count": 14,
   "metadata": {
    "scrolled": true
   },
   "outputs": [
    {
     "name": "stdout",
     "output_type": "stream",
     "text": [
      "38.38 porcento das pessoas sobreviveram ao acidente\n",
      "68.82 porcento das mulheres e crianças sobreviveram ao acidente\n"
     ]
    }
   ],
   "source": [
    "#Comparação\n",
    "print('{:.2f} porcento das pessoas sobreviveram ao acidente'.format(surv_rate(df_titanic)))\n",
    "print('{:.2f} porcento das mulheres e crianças sobreviveram ao acidente'.format(surv_rate(df_wm_ch)))"
   ]
  },
  {
   "cell_type": "markdown",
   "metadata": {},
   "source": [
    "Analisando a quatidade de sobreviventes por faixa etária somente"
   ]
  },
  {
   "cell_type": "code",
   "execution_count": 15,
   "metadata": {
    "scrolled": true
   },
   "outputs": [],
   "source": [
    "#separando por faixa etaria\n",
    "df_titanic[\"faixa_etaria\"] = pd.cut(df_titanic.age, [0, 18, 60, 150], labels=[\"criancas\", \"adultos\", \"idosos\"])"
   ]
  },
  {
   "cell_type": "code",
   "execution_count": 16,
   "metadata": {},
   "outputs": [
    {
     "data": {
      "image/png": "[encoded data removed]",
      "text/plain": [
       "<Figure size 432x288 with 1 Axes>"
      ]
     },
     "metadata": {
      "needs_background": "light"
     },
     "output_type": "display_data"
    }
   ],
   "source": [
    "#Plotando o gráfico\n",
    "df_titanic.groupby(['faixa_etaria','survived']).size().unstack().rename(columns={0:'Não',1:'Sim'}).plot.bar(rot=1)\n",
    "plt.xlabel('Faixa Etaria')\n",
    "plt.ylabel('Quantidade de Sobreviventes')\n",
    "plt.legend(title='Sobreviveu')\n",
    "plt.title('Quantidade de sobreviventes por faixa etária');"
   ]
  },
  {
   "cell_type": "markdown",
   "metadata": {},
   "source": [
    "Analisando a quantidade de sobreviventes por sexo"
   ]
  },
  {
   "cell_type": "code",
   "execution_count": 17,
   "metadata": {},
   "outputs": [
    {
     "data": {
      "image/png": "[encoded data removed]",
      "text/plain": [
       "<Figure size 432x288 with 1 Axes>"
      ]
     },
     "metadata": {
      "needs_background": "light"
     },
     "output_type": "display_data"
    }
   ],
   "source": [
    "df_titanic.groupby(['sex','survived']).size().unstack().rename(columns={0:'Não',1:'Sim'}\n",
    "                                                              ,index={'male':'Masculino'\n",
    "                                                                     ,'female':'Feminino'}).plot.bar(rot=1)\n",
    "plt.xlabel('Sexo')\n",
    "plt.ylabel('Quantidade de Sobreviventes')\n",
    "plt.legend(title='Sobreviveu')\n",
    "plt.title('Quantidade de sobreviventes por sexo');"
   ]
  },
  {
   "cell_type": "markdown",
   "metadata": {},
   "source": [
    "Pela comparação entre a taxa de sobrevivência geral do Titanic com a taxa de sobrevivência de mulheres e criança podemos perceber que este grupo teve uma taxa duas vezes maior que a geral.\n",
    "\n",
    "Agora, comparando a quantidade de sobreviventes por faixa etária podemos notar que crianças tem um número,aproximadamente, igual de sobreviventes e não sobreviventes. Enquanto as outras faixas tem um número maior de não sobreviventes.\n",
    "\n",
    "Quando comparamos a quantidade de sobreviventes por sexo, claramente, notamos que os passageiros do sexo feminino tem um número bem maior de sobreviventes. Enquanto os passageiros do sexo masculino tem um número bem maior de não sobreviventes.  "
   ]
  },
  {
   "cell_type": "markdown",
   "metadata": {},
   "source": [
    "### P2.Qual foi a relação entre a taxa de sobrevivencia com o número de parentes à bordo?\n",
    "\n",
    "O número de parentes será considerado como a soma das colunas *sibsp* e *parch*"
   ]
  },
  {
   "cell_type": "code",
   "execution_count": 18,
   "metadata": {},
   "outputs": [],
   "source": [
    "#Criando a coluna que representa a quantidade de parentes à bordo\n",
    "df_titanic['relatives'] = df_titanic['sibsp'] + df_titanic['parch']"
   ]
  },
  {
   "cell_type": "code",
   "execution_count": 19,
   "metadata": {},
   "outputs": [
    {
     "name": "stdout",
     "output_type": "stream",
     "text": [
      "0     537\n",
      "1     161\n",
      "2     102\n",
      "3      29\n",
      "5      22\n",
      "4      15\n",
      "6      12\n",
      "10      7\n",
      "7       6\n",
      "Name: relatives, dtype: int64\n",
      "0     0.303538\n",
      "1     0.552795\n",
      "2     0.578431\n",
      "3     0.724138\n",
      "4     0.200000\n",
      "5     0.136364\n",
      "6     0.333333\n",
      "7          NaN\n",
      "10         NaN\n",
      "Name: relatives, dtype: float64\n"
     ]
    }
   ],
   "source": [
    "#Grafico de barras da taxa de sobreviventes por quantidade de parentes\n",
    "#Calculando as quantidades relativas\n",
    "survivors = df_titanic.query('survived == 1')\n",
    "surv_per_relative = survivors['relatives'].value_counts()\n",
    "total_per_relative = df_titanic['relatives'].value_counts()\n",
    "print(total_per_relative)\n",
    "rate_relatives = surv_per_relative/total_per_relative\n",
    "print(rate_relatives)\n",
    "#Precisamos substituir os valores NaN por zero\n",
    "rate_relatives = rate_relatives.fillna(0)"
   ]
  },
  {
   "cell_type": "code",
   "execution_count": 20,
   "metadata": {},
   "outputs": [
    {
     "data": {
      "image/png": "[encoded data removed]",
      "text/plain": [
       "<Figure size 432x288 with 1 Axes>"
      ]
     },
     "metadata": {
      "needs_background": "light"
     },
     "output_type": "display_data"
    }
   ],
   "source": [
    "#Plotando grafico\n",
    "plt.bar(rate_relatives.index,rate_relatives.values)\n",
    "plt.xlabel('Quantidade de parentes')\n",
    "plt.ylabel('Taxa de sobrevivencia')\n",
    "plt.xticks(rate_relatives.index)\n",
    "plt.title('Taxa de sobrevivencia por quantidade de parentes');"
   ]
  },
  {
   "cell_type": "code",
   "execution_count": 21,
   "metadata": {},
   "outputs": [
    {
     "data": {
      "image/png": "[encoded data removed]",
      "text/plain": [
       "<Figure size 432x288 with 1 Axes>"
      ]
     },
     "metadata": {
      "needs_background": "light"
     },
     "output_type": "display_data"
    }
   ],
   "source": [
    "#Plotando gráfico de violino\n",
    "g = sns.violinplot(x='survived',y='relatives',data=df_titanic)\n",
    "g.set(xticklabels=['Não','Sim'])\n",
    "plt.xlabel('Sobreviveu')\n",
    "plt.ylabel('Quantidade de parentes')\n",
    "plt.title('Distribuição do situação dos tripulantes X Quantidade de parentes');"
   ]
  },
  {
   "cell_type": "markdown",
   "metadata": {},
   "source": [
    "Pelo gráfico da violino podemos notar que da população que não sobreviveu a maioria está concentrada em tripulantes com nenhum parente a bordo e da população que sobreviveu a distribuição está mais distribuida na região com até 4 parentes.\n",
    "\n",
    "Junto com o gráfico da taxa de sobrevivência por quantidade de parentes podemos perceber uma correlação entre sobreviventes e uma quantidade de parentes à bordo maior que zero e menor que 4."
   ]
  },
  {
   "cell_type": "markdown",
   "metadata": {},
   "source": [
    "### P3.Qual é a distribuição da tripulação por idade e a distribuição de sobreviventes por idade?"
   ]
  },
  {
   "cell_type": "code",
   "execution_count": 22,
   "metadata": {},
   "outputs": [
    {
     "data": {
      "image/png": "[encoded data removed]",
      "text/plain": [
       "<Figure size 432x288 with 1 Axes>"
      ]
     },
     "metadata": {
      "needs_background": "light"
     },
     "output_type": "display_data"
    }
   ],
   "source": [
    "#Plotando a distribuição por idade\n",
    "sns.kdeplot(df_titanic['age'], label='Tripulação inicial')\n",
    "#Plotando a distribuição de sobreviventes por idade\n",
    "sns.kdeplot(df_titanic.query('survived == 1')['age'],label='Sobreviventes')\n",
    "plt.xlabel('Idade')\n",
    "plt.ylabel('Quantidade')\n",
    "plt.legend()\n",
    "plt.title('Distribuição das pessoas antes e depois do acidente');"
   ]
  },
  {
   "cell_type": "markdown",
   "metadata": {},
   "source": [
    "A comparação entre a distribuição antes e depois do acidente comprova o achado da pergunta 1, mostrando uma diminuição de adultos e um aumento de crianças."
   ]
  },
  {
   "cell_type": "markdown",
   "metadata": {},
   "source": [
    "### P4.Quantidade preço médio para passagens para cada classe?"
   ]
  },
  {
   "cell_type": "code",
   "execution_count": 23,
   "metadata": {},
   "outputs": [
    {
     "name": "stdout",
     "output_type": "stream",
     "text": [
      "O preço medio para a 1 classe é de 84.15 dolares.\n",
      "O preço medio para a 2 classe é de 20.66 dolares.\n",
      "O preço medio para a 3 classe é de 13.68 dolares.\n"
     ]
    }
   ],
   "source": [
    "#Encontrando o preço por class\n",
    "price_class = df_titanic.groupby('pclass').mean()['fare']\n",
    "for classe,preco in price_class.iteritems():\n",
    "    print('O preço medio para a {} classe é de {:.2f} dolares.'.format(classe,preco))"
   ]
  },
  {
   "cell_type": "markdown",
   "metadata": {},
   "source": [
    "Através de uma pesquisa na internet pude concluir que os valores dos preços das passagens estão em dolares."
   ]
  },
  {
   "cell_type": "markdown",
   "metadata": {},
   "source": [
    "### P5.Qual a taxa de sobrevivencia dentro de cada classe?"
   ]
  },
  {
   "cell_type": "code",
   "execution_count": 24,
   "metadata": {},
   "outputs": [
    {
     "name": "stdout",
     "output_type": "stream",
     "text": [
      "A taxa de sobrevivencia para a primeira classe é de 62.96 porcento\n",
      "A taxa de sobrevivencia para a segunda classe é de 47.28 porcento\n",
      "A taxa de sobrevivencia para a terceira classe é de 24.24 porcento\n"
     ]
    }
   ],
   "source": [
    "#Separando os dados por class\n",
    "df_primeira = df_titanic.query('pclass == 1')\n",
    "df_segunda = df_titanic.query('pclass == 2')\n",
    "df_terceira = df_titanic.query('pclass == 3')\n",
    "#Mostrando os resultados\n",
    "print('A taxa de sobrevivencia para a primeira classe é de {:.2f} porcento'.format(surv_rate(df_primeira)))\n",
    "print('A taxa de sobrevivencia para a segunda classe é de {:.2f} porcento'.format(surv_rate(df_segunda)))\n",
    "print('A taxa de sobrevivencia para a terceira classe é de {:.2f} porcento'.format(surv_rate(df_terceira)))"
   ]
  },
  {
   "cell_type": "markdown",
   "metadata": {},
   "source": [
    "Podemos notar que, como foi mostrado no filme Titanic, os tripulantes com melhor condição tiveram uma maior taxa de sobrevivência."
   ]
  },
  {
   "cell_type": "markdown",
   "metadata": {},
   "source": [
    "## Resultados\n",
    "\n",
    "P1:\n",
    "\n",
    "Os dados obtidos comprovam o que foi mostrado no filme que mulheres e crianças tiveram uma maior taxa de sobrevivencia.\n",
    "\n",
    "P2:\n",
    "\n",
    "A estudo mostra uma correlação entre a os sobreviventes e o fato da passegeiro estar viajando com uma pequena quantidade de parentes próximos\n",
    "\n",
    "P3:\n",
    "\n",
    "A distribuição das pessoas antes e depois do acidente mostra a diminuição da população de adultos e um aumento na população de crianças.\n",
    "\n",
    "P4.\n",
    "\n",
    "Classe|Preço Médio(US$)\n",
    "------|---------------\n",
    "1|84,15\n",
    "2|20,66\n",
    "3|13,68\n",
    "\n",
    "P5.\n",
    "\n",
    "O estudo mostra que a condição financeira influenciou na taxa de sobrevivencia dos passageiros.Uma vez que a taxa de sobrevivencia dos passageiros de primeira classe foi quase 3 vezes maior que a de passageiros de terceira classe.\n",
    "\n",
    "\n",
    "### Problemas encontrados\n",
    "\n",
    "Um dos problemas encontrados foi como lidar com os valores ausentes da coluna da idade, que alterou a precisão do estudo feito para responder a pergunta 1.\n",
    "\n",
    "Porém o maior dos problema é a falta de ferramentas para tirar conclusões dos dados, pois neste estudo foi utilizado somente estatística descritiva."
   ]
  },
  {
   "cell_type": "markdown",
   "metadata": {},
   "source": [
    "## Bibliografia\n",
    "\n",
    "[Mastering Markdown](https://guides.github.com/features/mastering-markdown/)\n",
    "\n",
    "[Kaggle Titanic](https://www.kaggle.com/c/titanic/data)\n",
    "\n",
    "[Pandas Documentation](http://pandas.pydata.org/pandas-docs/stable/)\n",
    "\n",
    "[Numpy References](https://docs.scipy.org/doc/numpy-1.16.1/reference/)\n",
    "\n",
    "[Matplotlib Exemples](https://matplotlib.org/gallery/index.html)\n",
    "\n",
    "[StackOverflow](https://stackoverflow.com/)\n",
    "\n",
    "[Quora](https://www.quora.com/What-were-the-ticket-prices-to-board-the-Titanic)\n",
    "\n",
    "[Wikipedia](https://en.wikipedia.org/wiki/RMS_Titanic)\n",
    "[Seaborn Tutorial](http://seaborn.pydata.org/tutorial/categorical.html#categorical-tutorial)"
   ]
  }
 ],
 "metadata": {
  "kernelspec": {
   "display_name": "Python 3",
   "language": "python",
   "name": "python3"
  },
  "language_info": {
   "codemirror_mode": {
    "name": "ipython",
    "version": 3
   },
   "file_extension": ".py",
   "mimetype": "text/x-python",
   "name": "python",
   "nbconvert_exporter": "python",
   "pygments_lexer": "ipython3",
   "version": "3.7.2"
  }
 },
 "nbformat": 4,
 "nbformat_minor": 2
}
